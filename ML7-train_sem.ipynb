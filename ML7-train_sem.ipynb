{
 "cells": [
  {
   "attachments": {},
   "cell_type": "markdown",
   "metadata": {},
   "source": [
    "Необходимо предсказать биологический ответ молекул (столбец 'Activity') по их химическому составу (столбцы D1-D1776).\n",
    "\n",
    "Данные представлены в формате CSV.  Каждая строка представляет молекулу. \n",
    "\n",
    "Первый столбец Activity содержит экспериментальные данные, описывающие фактический биологический ответ [0, 1]; \n",
    "Остальные столбцы D1-D1776 представляют собой молекулярные дескрипторы — это вычисляемые свойства, которые могут фиксировать некоторые характеристики молекулы, например размер, форму или состав элементов.\n",
    "\n",
    "Предварительная обработка не требуется, данные уже закодированы и нормализованы.\n",
    "\n",
    "В качестве метрики будем использовать F1-score.\n",
    "\n",
    "Необходимо обучить две модели: логистическую регрессию и случайный лес. Далее нужно сделать подбор гиперпараметров с помощью базовых и продвинутых методов оптимизации. Важно использовать все четыре метода (GridSeachCV, RandomizedSearchCV, Hyperopt, Optuna) хотя бы по разу, максимальное количество итераций не должно превышать 50."
   ]
  },
  {
   "cell_type": "code",
   "execution_count": 7,
   "metadata": {},
   "outputs": [],
   "source": [
    "import warnings\n",
    "\n",
    "warnings.filterwarnings('ignore')"
   ]
  },
  {
   "cell_type": "code",
   "execution_count": 8,
   "metadata": {},
   "outputs": [],
   "source": [
    "# Импорт библиотек\n",
    "import numpy as np # для матричных вычислений\n",
    "import pandas as pd # для анализа и предобработки данных\n",
    "\n",
    "from sklearn import linear_model # линейные моделиё\n",
    "from sklearn import tree # деревья решений\n",
    "from sklearn import ensemble # ансамбли\n",
    "from sklearn import metrics # метрики\n",
    "from sklearn import preprocessing # предобработка\n",
    "from sklearn.model_selection import train_test_split # сплитование выборки\n",
    "\n",
    "# Импорт методов подбора гиперпараметров\n",
    "from sklearn.model_selection import GridSearchCV\n",
    "from sklearn.model_selection import RandomizedSearchCV\n",
    "from sklearn.model_selection import cross_val_score\n",
    "import hyperopt\n",
    "from hyperopt import hp, fmin, tpe, Trials\n",
    "import optuna"
   ]
  },
  {
   "cell_type": "code",
   "execution_count": 9,
   "metadata": {},
   "outputs": [
    {
     "data": {
      "text/html": [
       "<div>\n",
       "<style scoped>\n",
       "    .dataframe tbody tr th:only-of-type {\n",
       "        vertical-align: middle;\n",
       "    }\n",
       "\n",
       "    .dataframe tbody tr th {\n",
       "        vertical-align: top;\n",
       "    }\n",
       "\n",
       "    .dataframe thead th {\n",
       "        text-align: right;\n",
       "    }\n",
       "</style>\n",
       "<table border=\"1\" class=\"dataframe\">\n",
       "  <thead>\n",
       "    <tr style=\"text-align: right;\">\n",
       "      <th></th>\n",
       "      <th>Activity</th>\n",
       "      <th>D1</th>\n",
       "      <th>D2</th>\n",
       "      <th>D3</th>\n",
       "      <th>D4</th>\n",
       "      <th>D5</th>\n",
       "      <th>D6</th>\n",
       "      <th>D7</th>\n",
       "      <th>D8</th>\n",
       "      <th>D9</th>\n",
       "      <th>...</th>\n",
       "      <th>D1767</th>\n",
       "      <th>D1768</th>\n",
       "      <th>D1769</th>\n",
       "      <th>D1770</th>\n",
       "      <th>D1771</th>\n",
       "      <th>D1772</th>\n",
       "      <th>D1773</th>\n",
       "      <th>D1774</th>\n",
       "      <th>D1775</th>\n",
       "      <th>D1776</th>\n",
       "    </tr>\n",
       "  </thead>\n",
       "  <tbody>\n",
       "    <tr>\n",
       "      <th>0</th>\n",
       "      <td>1</td>\n",
       "      <td>0.000000</td>\n",
       "      <td>0.497009</td>\n",
       "      <td>0.10</td>\n",
       "      <td>0.0</td>\n",
       "      <td>0.132956</td>\n",
       "      <td>0.678031</td>\n",
       "      <td>0.273166</td>\n",
       "      <td>0.585445</td>\n",
       "      <td>0.743663</td>\n",
       "      <td>...</td>\n",
       "      <td>0</td>\n",
       "      <td>0</td>\n",
       "      <td>0</td>\n",
       "      <td>0</td>\n",
       "      <td>0</td>\n",
       "      <td>0</td>\n",
       "      <td>0</td>\n",
       "      <td>0</td>\n",
       "      <td>0</td>\n",
       "      <td>0</td>\n",
       "    </tr>\n",
       "    <tr>\n",
       "      <th>1</th>\n",
       "      <td>1</td>\n",
       "      <td>0.366667</td>\n",
       "      <td>0.606291</td>\n",
       "      <td>0.05</td>\n",
       "      <td>0.0</td>\n",
       "      <td>0.111209</td>\n",
       "      <td>0.803455</td>\n",
       "      <td>0.106105</td>\n",
       "      <td>0.411754</td>\n",
       "      <td>0.836582</td>\n",
       "      <td>...</td>\n",
       "      <td>1</td>\n",
       "      <td>1</td>\n",
       "      <td>1</td>\n",
       "      <td>1</td>\n",
       "      <td>0</td>\n",
       "      <td>1</td>\n",
       "      <td>0</td>\n",
       "      <td>0</td>\n",
       "      <td>1</td>\n",
       "      <td>0</td>\n",
       "    </tr>\n",
       "    <tr>\n",
       "      <th>2</th>\n",
       "      <td>1</td>\n",
       "      <td>0.033300</td>\n",
       "      <td>0.480124</td>\n",
       "      <td>0.00</td>\n",
       "      <td>0.0</td>\n",
       "      <td>0.209791</td>\n",
       "      <td>0.610350</td>\n",
       "      <td>0.356453</td>\n",
       "      <td>0.517720</td>\n",
       "      <td>0.679051</td>\n",
       "      <td>...</td>\n",
       "      <td>0</td>\n",
       "      <td>0</td>\n",
       "      <td>0</td>\n",
       "      <td>0</td>\n",
       "      <td>0</td>\n",
       "      <td>0</td>\n",
       "      <td>0</td>\n",
       "      <td>0</td>\n",
       "      <td>0</td>\n",
       "      <td>0</td>\n",
       "    </tr>\n",
       "  </tbody>\n",
       "</table>\n",
       "<p>3 rows × 1777 columns</p>\n",
       "</div>"
      ],
      "text/plain": [
       "   Activity        D1        D2    D3   D4        D5        D6        D7  \\\n",
       "0         1  0.000000  0.497009  0.10  0.0  0.132956  0.678031  0.273166   \n",
       "1         1  0.366667  0.606291  0.05  0.0  0.111209  0.803455  0.106105   \n",
       "2         1  0.033300  0.480124  0.00  0.0  0.209791  0.610350  0.356453   \n",
       "\n",
       "         D8        D9  ...  D1767  D1768  D1769  D1770  D1771  D1772  D1773  \\\n",
       "0  0.585445  0.743663  ...      0      0      0      0      0      0      0   \n",
       "1  0.411754  0.836582  ...      1      1      1      1      0      1      0   \n",
       "2  0.517720  0.679051  ...      0      0      0      0      0      0      0   \n",
       "\n",
       "   D1774  D1775  D1776  \n",
       "0      0      0      0  \n",
       "1      0      1      0  \n",
       "2      0      0      0  \n",
       "\n",
       "[3 rows x 1777 columns]"
      ]
     },
     "execution_count": 9,
     "metadata": {},
     "output_type": "execute_result"
    }
   ],
   "source": [
    "# Загружаем и смотрим датасет\n",
    "data = pd.read_csv('data/_train_sem09.csv')\n",
    "data.head(3)"
   ]
  },
  {
   "attachments": {},
   "cell_type": "markdown",
   "metadata": {},
   "source": [
    "## Модель ##"
   ]
  },
  {
   "cell_type": "code",
   "execution_count": 59,
   "metadata": {},
   "outputs": [],
   "source": [
    "X = data.drop(['Activity'], axis=1)\n",
    "y = data['Activity']\n",
    "\n",
    "X_train, X_test, y_train, y_test = train_test_split(X, y, stratify=y, random_state = 1, test_size = 0.2)"
   ]
  },
  {
   "attachments": {},
   "cell_type": "markdown",
   "metadata": {},
   "source": [
    "## Логическая регресия"
   ]
  },
  {
   "cell_type": "code",
   "execution_count": 91,
   "metadata": {},
   "outputs": [
    {
     "name": "stdout",
     "output_type": "stream",
     "text": [
      "Train: 0.87\n",
      "Test: 0.79\n"
     ]
    }
   ],
   "source": [
    "# Создаем объект класса логистическая регресси\n",
    "log_reg = linear_model.LogisticRegression(max_iter = 50, random_state = 20)\n",
    "\n",
    "# Обучаем модель, минимизируя logloss\n",
    "log_reg.fit(X_train, y_train)\n",
    "\n",
    "# Выводим результат по метрике f1\n",
    "y_train_pred_log = log_reg.predict(X_train)\n",
    "print('Train: {:.2f}'.format(metrics.f1_score(y_train, y_train_pred_log)))\n",
    "y_test_pred_log = log_reg.predict(X_test)\n",
    "print('Test: {:.2f}'.format(metrics.f1_score(y_test, y_test_pred_log)))"
   ]
  },
  {
   "attachments": {},
   "cell_type": "markdown",
   "metadata": {},
   "source": [
    "GridSeachCV"
   ]
  },
  {
   "cell_type": "code",
   "execution_count": 95,
   "metadata": {},
   "outputs": [
    {
     "name": "stdout",
     "output_type": "stream",
     "text": [
      "CPU times: total: 2.45 s\n",
      "Wall time: 2min 19s\n",
      "Train: 0.85\n",
      "Test: 0.79\n"
     ]
    }
   ],
   "source": [
    "# Словарь с именами гиперпараметров \n",
    "param_grid = [{'penalty': ['l2', 'none'] ,#  тип регурялизации\n",
    "              'solver': ['lbfgs', 'saga'], # алгоритм оптимизации\n",
    "              'C': [0.01, 0.1, 0.3, 0.5]} # уровень силы регурялизации\n",
    "              ]\n",
    "\n",
    "# Вызваем класс GridSearchCV и передаем модель LogisticRegression, сетку искомых параметров\n",
    "grid_search_log = GridSearchCV(\n",
    "    estimator=linear_model.LogisticRegression(\n",
    "        random_state=20, # генератор случайных чисел\n",
    "        max_iter=50 # количество итераций на сходимость\n",
    "    ), \n",
    "    param_grid=param_grid, \n",
    "    cv=5, # число фолдов\n",
    "    n_jobs = -1 # используем все доступные ядра для расчётов\n",
    ")  \n",
    "\n",
    "# Вызываем объект grid_search_log стандартные методы fit, который запускает кросс-валидацию для каждой комбинации гиперпараметров\n",
    "# %time определяет время работы\n",
    "%time grid_search_log.fit(X_train, y_train) \n",
    "\n",
    "# Выводим результат по метрике f1\n",
    "y_train_pred = grid_search_log.predict(X_train)\n",
    "print('Train: {:.2f}'.format(metrics.f1_score(y_train, y_train_pred)))\n",
    "y_test_pred = grid_search_log.predict(X_test)\n",
    "print('Test: {:.2f}'.format(metrics.f1_score(y_test, y_test_pred)))"
   ]
  },
  {
   "cell_type": "code",
   "execution_count": 96,
   "metadata": {},
   "outputs": [
    {
     "name": "stdout",
     "output_type": "stream",
     "text": [
      "Наилучшее значение точности при кросс-валидаци: 0.76\n",
      "Наилучшие значения гиперпараметров: {'C': 0.1, 'penalty': 'l2', 'solver': 'lbfgs'}\n",
      "Наилучшая модель:\n",
      "LogisticRegression(C=0.1, max_iter=50, random_state=20)\n"
     ]
    }
   ],
   "source": [
    "print(\"Наилучшее значение точности при кросс-валидаци: {:.2f}\".format(grid_search_log.best_score_))\n",
    "print(\"Наилучшие значения гиперпараметров: {}\".format(grid_search_log.best_params_))\n",
    "print(\"Наилучшая модель:\\n{}\".format(grid_search_log.best_estimator_))"
   ]
  },
  {
   "cell_type": "code",
   "execution_count": 97,
   "metadata": {},
   "outputs": [
    {
     "data": {
      "text/html": [
       "<div>\n",
       "<style scoped>\n",
       "    .dataframe tbody tr th:only-of-type {\n",
       "        vertical-align: middle;\n",
       "    }\n",
       "\n",
       "    .dataframe tbody tr th {\n",
       "        vertical-align: top;\n",
       "    }\n",
       "\n",
       "    .dataframe thead th {\n",
       "        text-align: right;\n",
       "    }\n",
       "</style>\n",
       "<table border=\"1\" class=\"dataframe\">\n",
       "  <thead>\n",
       "    <tr style=\"text-align: right;\">\n",
       "      <th></th>\n",
       "      <th>mean_fit_time</th>\n",
       "      <th>std_fit_time</th>\n",
       "      <th>mean_score_time</th>\n",
       "      <th>std_score_time</th>\n",
       "      <th>param_C</th>\n",
       "      <th>param_penalty</th>\n",
       "      <th>param_solver</th>\n",
       "      <th>params</th>\n",
       "      <th>split0_test_score</th>\n",
       "      <th>split1_test_score</th>\n",
       "      <th>split2_test_score</th>\n",
       "      <th>split3_test_score</th>\n",
       "      <th>split4_test_score</th>\n",
       "      <th>mean_test_score</th>\n",
       "      <th>std_test_score</th>\n",
       "      <th>rank_test_score</th>\n",
       "    </tr>\n",
       "  </thead>\n",
       "  <tbody>\n",
       "    <tr>\n",
       "      <th>0</th>\n",
       "      <td>3.024342</td>\n",
       "      <td>0.649268</td>\n",
       "      <td>0.107206</td>\n",
       "      <td>0.031436</td>\n",
       "      <td>0.01</td>\n",
       "      <td>l2</td>\n",
       "      <td>lbfgs</td>\n",
       "      <td>{'C': 0.01, 'penalty': 'l2', 'solver': 'lbfgs'}</td>\n",
       "      <td>0.736667</td>\n",
       "      <td>0.765</td>\n",
       "      <td>0.780000</td>\n",
       "      <td>0.745000</td>\n",
       "      <td>0.746667</td>\n",
       "      <td>0.754667</td>\n",
       "      <td>0.015684</td>\n",
       "      <td>10</td>\n",
       "    </tr>\n",
       "    <tr>\n",
       "      <th>1</th>\n",
       "      <td>11.326043</td>\n",
       "      <td>0.824789</td>\n",
       "      <td>0.092811</td>\n",
       "      <td>0.034170</td>\n",
       "      <td>0.01</td>\n",
       "      <td>l2</td>\n",
       "      <td>saga</td>\n",
       "      <td>{'C': 0.01, 'penalty': 'l2', 'solver': 'saga'}</td>\n",
       "      <td>0.738333</td>\n",
       "      <td>0.760</td>\n",
       "      <td>0.778333</td>\n",
       "      <td>0.746667</td>\n",
       "      <td>0.745000</td>\n",
       "      <td>0.753667</td>\n",
       "      <td>0.014197</td>\n",
       "      <td>11</td>\n",
       "    </tr>\n",
       "  </tbody>\n",
       "</table>\n",
       "</div>"
      ],
      "text/plain": [
       "   mean_fit_time  std_fit_time  mean_score_time  std_score_time param_C  \\\n",
       "0       3.024342      0.649268         0.107206        0.031436    0.01   \n",
       "1      11.326043      0.824789         0.092811        0.034170    0.01   \n",
       "\n",
       "  param_penalty param_solver                                           params  \\\n",
       "0            l2        lbfgs  {'C': 0.01, 'penalty': 'l2', 'solver': 'lbfgs'}   \n",
       "1            l2         saga   {'C': 0.01, 'penalty': 'l2', 'solver': 'saga'}   \n",
       "\n",
       "   split0_test_score  split1_test_score  split2_test_score  split3_test_score  \\\n",
       "0           0.736667              0.765           0.780000           0.745000   \n",
       "1           0.738333              0.760           0.778333           0.746667   \n",
       "\n",
       "   split4_test_score  mean_test_score  std_test_score  rank_test_score  \n",
       "0           0.746667         0.754667        0.015684               10  \n",
       "1           0.745000         0.753667        0.014197               11  "
      ]
     },
     "execution_count": 97,
     "metadata": {},
     "output_type": "execute_result"
    }
   ],
   "source": [
    "# Взглянем на результаты кросс-валидации\n",
    "result_cv1 = pd.DataFrame(grid_search_log.cv_results_)\n",
    "result_cv1.head(2)"
   ]
  },
  {
   "attachments": {},
   "cell_type": "markdown",
   "metadata": {},
   "source": [
    "RandomizedSearchCV"
   ]
  },
  {
   "cell_type": "code",
   "execution_count": 63,
   "metadata": {},
   "outputs": [
    {
     "name": "stdout",
     "output_type": "stream",
     "text": [
      "CPU times: total: 6.98 s\n",
      "Wall time: 1min 27s\n",
      "Train: 0.85\n",
      "Test: 0.79\n"
     ]
    }
   ],
   "source": [
    "# Создаем словарь\n",
    "param_distributions = {'penalty': ['l2', 'none'] ,\n",
    "              'solver': ['lbfgs', 'sag'],\n",
    "              'C': [0.01, 0.1, 0.3, 0.5] # уровень силы регурялизации\n",
    "               },\n",
    "# Вызваем класс RandomizedSearchCV и передаем модель LogisticRegression, сетку искомых параметров            \n",
    "random_search_log = RandomizedSearchCV(\n",
    "    estimator=linear_model.LogisticRegression(random_state=20, max_iter=50), \n",
    "    param_distributions=param_distributions, \n",
    "    cv=5, # количество фолдов\n",
    "    n_iter = 10, # количество комбинаций на расчёт\n",
    "    n_jobs = -1 # используем все доступные ядра для расчётов\n",
    ") \n",
    "\n",
    "# Вызываем объект random_search_log стандартные методы fit, который запускает кросс-валидацию для каждой комбинации гиперпараметров\n",
    "# %time определяет время работы\n",
    "%time random_search_log.fit(X_train, y_train) \n",
    "\n",
    "# Выводим результат по метрике f1\n",
    "y_train_pred = random_search_log.predict(X_train)\n",
    "print('Train: {:.2f}'.format(metrics.f1_score(y_train, y_train_pred)))\n",
    "y_test_pred = random_search_log.predict(X_test)\n",
    "print('Test: {:.2f}'.format(metrics.f1_score(y_test, y_test_pred)))"
   ]
  },
  {
   "cell_type": "code",
   "execution_count": 64,
   "metadata": {},
   "outputs": [
    {
     "name": "stdout",
     "output_type": "stream",
     "text": [
      "Наилучшее значение точности при кросс-валидаци: 0.76\n",
      "Наилучшие значения гиперпараметров: {'solver': 'sag', 'penalty': 'l2', 'C': 0.1}\n",
      "Наилучшая модель:\n",
      "LogisticRegression(C=0.1, max_iter=50, random_state=20, solver='sag')\n"
     ]
    }
   ],
   "source": [
    "print(\"Наилучшее значение точности при кросс-валидаци: {:.2f}\".format(random_search_log.best_score_))\n",
    "print(\"Наилучшие значения гиперпараметров: {}\".format(random_search_log.best_params_))\n",
    "print(\"Наилучшая модель:\\n{}\".format(random_search_log.best_estimator_))"
   ]
  },
  {
   "cell_type": "code",
   "execution_count": 65,
   "metadata": {},
   "outputs": [
    {
     "data": {
      "text/html": [
       "<div>\n",
       "<style scoped>\n",
       "    .dataframe tbody tr th:only-of-type {\n",
       "        vertical-align: middle;\n",
       "    }\n",
       "\n",
       "    .dataframe tbody tr th {\n",
       "        vertical-align: top;\n",
       "    }\n",
       "\n",
       "    .dataframe thead th {\n",
       "        text-align: right;\n",
       "    }\n",
       "</style>\n",
       "<table border=\"1\" class=\"dataframe\">\n",
       "  <thead>\n",
       "    <tr style=\"text-align: right;\">\n",
       "      <th></th>\n",
       "      <th>mean_fit_time</th>\n",
       "      <th>std_fit_time</th>\n",
       "      <th>mean_score_time</th>\n",
       "      <th>std_score_time</th>\n",
       "      <th>param_solver</th>\n",
       "      <th>param_penalty</th>\n",
       "      <th>param_C</th>\n",
       "      <th>params</th>\n",
       "      <th>split0_test_score</th>\n",
       "      <th>split1_test_score</th>\n",
       "      <th>split2_test_score</th>\n",
       "      <th>split3_test_score</th>\n",
       "      <th>split4_test_score</th>\n",
       "      <th>mean_test_score</th>\n",
       "      <th>std_test_score</th>\n",
       "      <th>rank_test_score</th>\n",
       "    </tr>\n",
       "  </thead>\n",
       "  <tbody>\n",
       "    <tr>\n",
       "      <th>0</th>\n",
       "      <td>2.394604</td>\n",
       "      <td>0.496094</td>\n",
       "      <td>0.086221</td>\n",
       "      <td>0.015502</td>\n",
       "      <td>lbfgs</td>\n",
       "      <td>none</td>\n",
       "      <td>0.1</td>\n",
       "      <td>{'solver': 'lbfgs', 'penalty': 'none', 'C': 0.1}</td>\n",
       "      <td>0.71</td>\n",
       "      <td>0.735000</td>\n",
       "      <td>0.733333</td>\n",
       "      <td>0.731667</td>\n",
       "      <td>0.740000</td>\n",
       "      <td>0.730000</td>\n",
       "      <td>0.010382</td>\n",
       "      <td>9</td>\n",
       "    </tr>\n",
       "    <tr>\n",
       "      <th>1</th>\n",
       "      <td>8.315866</td>\n",
       "      <td>0.103308</td>\n",
       "      <td>0.073220</td>\n",
       "      <td>0.010987</td>\n",
       "      <td>sag</td>\n",
       "      <td>l2</td>\n",
       "      <td>0.1</td>\n",
       "      <td>{'solver': 'sag', 'penalty': 'l2', 'C': 0.1}</td>\n",
       "      <td>0.73</td>\n",
       "      <td>0.761667</td>\n",
       "      <td>0.775000</td>\n",
       "      <td>0.763333</td>\n",
       "      <td>0.763333</td>\n",
       "      <td>0.758667</td>\n",
       "      <td>0.015107</td>\n",
       "      <td>1</td>\n",
       "    </tr>\n",
       "  </tbody>\n",
       "</table>\n",
       "</div>"
      ],
      "text/plain": [
       "   mean_fit_time  std_fit_time  mean_score_time  std_score_time param_solver  \\\n",
       "0       2.394604      0.496094         0.086221        0.015502        lbfgs   \n",
       "1       8.315866      0.103308         0.073220        0.010987          sag   \n",
       "\n",
       "  param_penalty param_C                                            params  \\\n",
       "0          none     0.1  {'solver': 'lbfgs', 'penalty': 'none', 'C': 0.1}   \n",
       "1            l2     0.1      {'solver': 'sag', 'penalty': 'l2', 'C': 0.1}   \n",
       "\n",
       "   split0_test_score  split1_test_score  split2_test_score  split3_test_score  \\\n",
       "0               0.71           0.735000           0.733333           0.731667   \n",
       "1               0.73           0.761667           0.775000           0.763333   \n",
       "\n",
       "   split4_test_score  mean_test_score  std_test_score  rank_test_score  \n",
       "0           0.740000         0.730000        0.010382                9  \n",
       "1           0.763333         0.758667        0.015107                1  "
      ]
     },
     "execution_count": 65,
     "metadata": {},
     "output_type": "execute_result"
    }
   ],
   "source": [
    "# Взглянем на результаты кросс-валидации\n",
    "result_cv2 = pd.DataFrame(random_search_log.cv_results_)\n",
    "result_cv2.head(2)"
   ]
  },
  {
   "attachments": {},
   "cell_type": "markdown",
   "metadata": {},
   "source": [
    "## Случайный лес"
   ]
  },
  {
   "cell_type": "code",
   "execution_count": 68,
   "metadata": {},
   "outputs": [
    {
     "name": "stdout",
     "output_type": "stream",
     "text": [
      "Train: 1.00\n",
      "Test: 0.82\n"
     ]
    }
   ],
   "source": [
    "# Создаем объект класса случайный лес\n",
    "rf = ensemble.RandomForestClassifier(random_state=20)\n",
    "\n",
    "# Обучаем модель\n",
    "rf.fit(X_train, y_train)\n",
    "\n",
    "# Выводим результат по метрике f1\n",
    "y_train_pred_forest = rf.predict(X_train)\n",
    "print('Train: {:.2f}'.format(metrics.f1_score(y_train, y_train_pred_forest)))\n",
    "y_test_pred_forest = rf.predict(X_test)\n",
    "print('Test: {:.2f}'.format(metrics.f1_score(y_test, y_test_pred_forest)))"
   ]
  },
  {
   "attachments": {},
   "cell_type": "markdown",
   "metadata": {},
   "source": [
    "RandomizedSearchCV"
   ]
  },
  {
   "cell_type": "code",
   "execution_count": 69,
   "metadata": {},
   "outputs": [
    {
     "name": "stdout",
     "output_type": "stream",
     "text": [
      "CPU times: total: 4.67 s\n",
      "Wall time: 1min 37s\n",
      "f1_score на обучающем наборе: 0.94\n",
      "f1_score на тестовом наборе: 0.82\n"
     ]
    }
   ],
   "source": [
    "# Создаем словарь\n",
    "param_distributions = {'n_estimators': list(range(80, 200, 30)),\n",
    "              'min_samples_leaf': [5],\n",
    "              'max_depth': list(np.linspace(20, 40, 10, dtype=int))\n",
    "              }\n",
    "\n",
    "# Вызваем класс RandomizedSearchCV и передаем модель RandomForestClassifier, сетку искомых параметров            \n",
    "random_search_forest = RandomizedSearchCV(\n",
    "    estimator=ensemble.RandomForestClassifier(random_state=20), \n",
    "    param_distributions=param_distributions, \n",
    "    cv=5, # количество фолдов\n",
    "    n_iter = 10, # количество комбинаций на расчёт\n",
    "    n_jobs = -1 # используем все доступные ядра для расчётов\n",
    ")\n",
    "\n",
    "# Вызываем объект random_search_fores стандартные методы fit, который запускает кросс-валидацию для каждой комбинации гиперпараметров \n",
    "# %time определяет время работы \n",
    "%time random_search_forest.fit(X_train, y_train) \n",
    "\n",
    "# Выводим результат по метрике f1\n",
    "y_train_pred = random_search_forest.predict(X_train)\n",
    "print('f1_score на обучающем наборе: {:.2f}'.format(metrics.f1_score(y_train, y_train_pred)))\n",
    "y_test_pred = random_search_forest.predict(X_test)\n",
    "print('f1_score на тестовом наборе: {:.2f}'.format(metrics.f1_score(y_test, y_test_pred)))"
   ]
  },
  {
   "cell_type": "code",
   "execution_count": 70,
   "metadata": {},
   "outputs": [
    {
     "name": "stdout",
     "output_type": "stream",
     "text": [
      "Наилучшее значение точности при кросс-валидаци: 0.79\n",
      "Наилучшие значения гиперпараметров: {'n_estimators': 110, 'min_samples_leaf': 5, 'max_depth': 20}\n",
      "Наилучшая модель:\n",
      "RandomForestClassifier(max_depth=20, min_samples_leaf=5, n_estimators=110,\n",
      "                       random_state=20)\n"
     ]
    }
   ],
   "source": [
    "print(\"Наилучшее значение точности при кросс-валидаци: {:.2f}\".format(random_search_forest.best_score_))\n",
    "print(\"Наилучшие значения гиперпараметров: {}\".format(random_search_forest.best_params_))\n",
    "print(\"Наилучшая модель:\\n{}\".format(random_search_forest.best_estimator_))"
   ]
  },
  {
   "cell_type": "code",
   "execution_count": 71,
   "metadata": {},
   "outputs": [
    {
     "data": {
      "text/html": [
       "<div>\n",
       "<style scoped>\n",
       "    .dataframe tbody tr th:only-of-type {\n",
       "        vertical-align: middle;\n",
       "    }\n",
       "\n",
       "    .dataframe tbody tr th {\n",
       "        vertical-align: top;\n",
       "    }\n",
       "\n",
       "    .dataframe thead th {\n",
       "        text-align: right;\n",
       "    }\n",
       "</style>\n",
       "<table border=\"1\" class=\"dataframe\">\n",
       "  <thead>\n",
       "    <tr style=\"text-align: right;\">\n",
       "      <th></th>\n",
       "      <th>mean_fit_time</th>\n",
       "      <th>std_fit_time</th>\n",
       "      <th>mean_score_time</th>\n",
       "      <th>std_score_time</th>\n",
       "      <th>param_n_estimators</th>\n",
       "      <th>param_min_samples_leaf</th>\n",
       "      <th>param_max_depth</th>\n",
       "      <th>params</th>\n",
       "      <th>split0_test_score</th>\n",
       "      <th>split1_test_score</th>\n",
       "      <th>split2_test_score</th>\n",
       "      <th>split3_test_score</th>\n",
       "      <th>split4_test_score</th>\n",
       "      <th>mean_test_score</th>\n",
       "      <th>std_test_score</th>\n",
       "      <th>rank_test_score</th>\n",
       "    </tr>\n",
       "  </thead>\n",
       "  <tbody>\n",
       "    <tr>\n",
       "      <th>0</th>\n",
       "      <td>7.211409</td>\n",
       "      <td>0.096853</td>\n",
       "      <td>0.282074</td>\n",
       "      <td>0.011545</td>\n",
       "      <td>140</td>\n",
       "      <td>5</td>\n",
       "      <td>24</td>\n",
       "      <td>{'n_estimators': 140, 'min_samples_leaf': 5, '...</td>\n",
       "      <td>0.771667</td>\n",
       "      <td>0.801667</td>\n",
       "      <td>0.796667</td>\n",
       "      <td>0.791667</td>\n",
       "      <td>0.775000</td>\n",
       "      <td>0.787333</td>\n",
       "      <td>0.011907</td>\n",
       "      <td>2</td>\n",
       "    </tr>\n",
       "    <tr>\n",
       "      <th>1</th>\n",
       "      <td>5.508789</td>\n",
       "      <td>0.151931</td>\n",
       "      <td>0.230261</td>\n",
       "      <td>0.030649</td>\n",
       "      <td>110</td>\n",
       "      <td>5</td>\n",
       "      <td>20</td>\n",
       "      <td>{'n_estimators': 110, 'min_samples_leaf': 5, '...</td>\n",
       "      <td>0.780000</td>\n",
       "      <td>0.796667</td>\n",
       "      <td>0.796667</td>\n",
       "      <td>0.791667</td>\n",
       "      <td>0.778333</td>\n",
       "      <td>0.788667</td>\n",
       "      <td>0.007986</td>\n",
       "      <td>1</td>\n",
       "    </tr>\n",
       "  </tbody>\n",
       "</table>\n",
       "</div>"
      ],
      "text/plain": [
       "   mean_fit_time  std_fit_time  mean_score_time  std_score_time  \\\n",
       "0       7.211409      0.096853         0.282074        0.011545   \n",
       "1       5.508789      0.151931         0.230261        0.030649   \n",
       "\n",
       "  param_n_estimators param_min_samples_leaf param_max_depth  \\\n",
       "0                140                      5              24   \n",
       "1                110                      5              20   \n",
       "\n",
       "                                              params  split0_test_score  \\\n",
       "0  {'n_estimators': 140, 'min_samples_leaf': 5, '...           0.771667   \n",
       "1  {'n_estimators': 110, 'min_samples_leaf': 5, '...           0.780000   \n",
       "\n",
       "   split1_test_score  split2_test_score  split3_test_score  split4_test_score  \\\n",
       "0           0.801667           0.796667           0.791667           0.775000   \n",
       "1           0.796667           0.796667           0.791667           0.778333   \n",
       "\n",
       "   mean_test_score  std_test_score  rank_test_score  \n",
       "0         0.787333        0.011907                2  \n",
       "1         0.788667        0.007986                1  "
      ]
     },
     "execution_count": 71,
     "metadata": {},
     "output_type": "execute_result"
    }
   ],
   "source": [
    "# Взглянем на результаты кросс-валидации\n",
    "result_cv2 = pd.DataFrame(random_search_forest.cv_results_)\n",
    "result_cv2.head(2)"
   ]
  },
  {
   "attachments": {},
   "cell_type": "markdown",
   "metadata": {},
   "source": [
    "GridSeachCV"
   ]
  },
  {
   "cell_type": "code",
   "execution_count": 73,
   "metadata": {},
   "outputs": [
    {
     "name": "stdout",
     "output_type": "stream",
     "text": [
      "CPU times: total: 6.39 s\n",
      "Wall time: 6min 32s\n",
      "f1_score на обучающем наборе: 0.94\n",
      "f1_score на тестовом наборе: 0.82\n"
     ]
    }
   ],
   "source": [
    "# Словарь с именами гиперпараметров \n",
    "param_grid = {'n_estimators': list(range(80, 200, 30)),\n",
    "              'min_samples_leaf': [5],\n",
    "              'max_depth': list(np.linspace(20, 40, 10, dtype=int))\n",
    "              }\n",
    "\n",
    "# Вызваем класс GridSearchCV и передем модель RandomForestClassifier, сетку искомых параметров            \n",
    "grid_search_forest = GridSearchCV(\n",
    "    estimator=ensemble.RandomForestClassifier(random_state=20), \n",
    "    param_grid=param_grid, \n",
    "    cv=5,  # число фолдов\n",
    "    n_jobs = -1 # используем все доступные ядра для расчётов\n",
    ")  \n",
    "\n",
    "# Вызываем объект grid_search_forest стандартные методы fit, который запускает кросс-валидацию для каждой комбинации гиперпараметров\n",
    "# %time определяет время работы\n",
    "%time grid_search_forest.fit(X_train, y_train) \n",
    "\n",
    "# Выводим результат по метрике f1\n",
    "y_train_pred = grid_search_forest.predict(X_train)\n",
    "print('f1_score на обучающем наборе: {:.2f}'.format(metrics.f1_score(y_train, y_train_pred)))\n",
    "y_test_pred = grid_search_forest.predict(X_test)\n",
    "print('f1_score на тестовом наборе: {:.2f}'.format(metrics.f1_score(y_test, y_test_pred)))"
   ]
  },
  {
   "cell_type": "code",
   "execution_count": 74,
   "metadata": {},
   "outputs": [
    {
     "name": "stdout",
     "output_type": "stream",
     "text": [
      "Наилучшее значение точности при кросс-валидаци: 0.79\n",
      "Наилучшие значения гиперпараметров: {'max_depth': 20, 'min_samples_leaf': 5, 'n_estimators': 110}\n",
      "Наилучшая модель:\n",
      "RandomForestClassifier(max_depth=20, min_samples_leaf=5, n_estimators=110,\n",
      "                       random_state=20)\n"
     ]
    }
   ],
   "source": [
    "print(\"Наилучшее значение точности при кросс-валидаци: {:.2f}\".format(grid_search_forest.best_score_))\n",
    "print(\"Наилучшие значения гиперпараметров: {}\".format(grid_search_forest.best_params_))\n",
    "print(\"Наилучшая модель:\\n{}\".format(grid_search_forest.best_estimator_))"
   ]
  },
  {
   "cell_type": "code",
   "execution_count": 75,
   "metadata": {},
   "outputs": [
    {
     "data": {
      "text/html": [
       "<div>\n",
       "<style scoped>\n",
       "    .dataframe tbody tr th:only-of-type {\n",
       "        vertical-align: middle;\n",
       "    }\n",
       "\n",
       "    .dataframe tbody tr th {\n",
       "        vertical-align: top;\n",
       "    }\n",
       "\n",
       "    .dataframe thead th {\n",
       "        text-align: right;\n",
       "    }\n",
       "</style>\n",
       "<table border=\"1\" class=\"dataframe\">\n",
       "  <thead>\n",
       "    <tr style=\"text-align: right;\">\n",
       "      <th></th>\n",
       "      <th>mean_fit_time</th>\n",
       "      <th>std_fit_time</th>\n",
       "      <th>mean_score_time</th>\n",
       "      <th>std_score_time</th>\n",
       "      <th>param_max_depth</th>\n",
       "      <th>param_min_samples_leaf</th>\n",
       "      <th>param_n_estimators</th>\n",
       "      <th>params</th>\n",
       "      <th>split0_test_score</th>\n",
       "      <th>split1_test_score</th>\n",
       "      <th>split2_test_score</th>\n",
       "      <th>split3_test_score</th>\n",
       "      <th>split4_test_score</th>\n",
       "      <th>mean_test_score</th>\n",
       "      <th>std_test_score</th>\n",
       "      <th>rank_test_score</th>\n",
       "    </tr>\n",
       "  </thead>\n",
       "  <tbody>\n",
       "    <tr>\n",
       "      <th>0</th>\n",
       "      <td>3.545094</td>\n",
       "      <td>0.041392</td>\n",
       "      <td>0.179651</td>\n",
       "      <td>0.013894</td>\n",
       "      <td>20</td>\n",
       "      <td>5</td>\n",
       "      <td>80</td>\n",
       "      <td>{'max_depth': 20, 'min_samples_leaf': 5, 'n_es...</td>\n",
       "      <td>0.766667</td>\n",
       "      <td>0.786667</td>\n",
       "      <td>0.795000</td>\n",
       "      <td>0.788333</td>\n",
       "      <td>0.776667</td>\n",
       "      <td>0.782667</td>\n",
       "      <td>0.009922</td>\n",
       "      <td>32</td>\n",
       "    </tr>\n",
       "    <tr>\n",
       "      <th>1</th>\n",
       "      <td>4.971650</td>\n",
       "      <td>0.079732</td>\n",
       "      <td>0.189852</td>\n",
       "      <td>0.011639</td>\n",
       "      <td>20</td>\n",
       "      <td>5</td>\n",
       "      <td>110</td>\n",
       "      <td>{'max_depth': 20, 'min_samples_leaf': 5, 'n_es...</td>\n",
       "      <td>0.780000</td>\n",
       "      <td>0.796667</td>\n",
       "      <td>0.796667</td>\n",
       "      <td>0.791667</td>\n",
       "      <td>0.778333</td>\n",
       "      <td>0.788667</td>\n",
       "      <td>0.007986</td>\n",
       "      <td>1</td>\n",
       "    </tr>\n",
       "  </tbody>\n",
       "</table>\n",
       "</div>"
      ],
      "text/plain": [
       "   mean_fit_time  std_fit_time  mean_score_time  std_score_time  \\\n",
       "0       3.545094      0.041392         0.179651        0.013894   \n",
       "1       4.971650      0.079732         0.189852        0.011639   \n",
       "\n",
       "  param_max_depth param_min_samples_leaf param_n_estimators  \\\n",
       "0              20                      5                 80   \n",
       "1              20                      5                110   \n",
       "\n",
       "                                              params  split0_test_score  \\\n",
       "0  {'max_depth': 20, 'min_samples_leaf': 5, 'n_es...           0.766667   \n",
       "1  {'max_depth': 20, 'min_samples_leaf': 5, 'n_es...           0.780000   \n",
       "\n",
       "   split1_test_score  split2_test_score  split3_test_score  split4_test_score  \\\n",
       "0           0.786667           0.795000           0.788333           0.776667   \n",
       "1           0.796667           0.796667           0.791667           0.778333   \n",
       "\n",
       "   mean_test_score  std_test_score  rank_test_score  \n",
       "0         0.782667        0.009922               32  \n",
       "1         0.788667        0.007986                1  "
      ]
     },
     "execution_count": 75,
     "metadata": {},
     "output_type": "execute_result"
    }
   ],
   "source": [
    "# Взглянем на результаты кросс-валидации\n",
    "result_cv2 = pd.DataFrame(grid_search_forest.cv_results_)\n",
    "result_cv2.head(2)"
   ]
  },
  {
   "attachments": {},
   "cell_type": "markdown",
   "metadata": {},
   "source": [
    "Hyperopt"
   ]
  },
  {
   "cell_type": "code",
   "execution_count": 77,
   "metadata": {},
   "outputs": [],
   "source": [
    "# Зададим пространство поиска гиперпараметров\n",
    "space={'n_estimators': hp.quniform('n_estimators', 100, 200, 1),\n",
    "       'max_depth' : hp.quniform('max_depth', 15, 26, 1),\n",
    "       'min_samples_leaf': hp.quniform('min_samples_leaf', 2, 10, 1)\n",
    "      }\n",
    "\n",
    "# Зафксируем random_state\n",
    "random_state = 20\n",
    "\n",
    "# Создаем функцию для минимизации\n",
    "def hyperopt_rf(params, cv=5, X=X_train, y=y_train, random_state=random_state):\n",
    "    # Функция получает комбинацию гиперпараметров в \"params\"\n",
    "    params = {'n_estimators': int(params['n_estimators']), \n",
    "              'max_depth': int(params['max_depth']), \n",
    "             'min_samples_leaf': int(params['min_samples_leaf'])\n",
    "              }\n",
    "    # Используем эту комбинацию для построения модели\n",
    "    model = ensemble.RandomForestClassifier(**params, random_state=random_state)\n",
    "    # обучаем модель\n",
    "    model.fit(X, y)\n",
    "    # применим  cross validation с тем же количеством фолдов\n",
    "    score = cross_val_score(model, X, y, cv=cv, scoring=\"f1\", n_jobs=-1).mean()\n",
    "    # метрику необходимо минимизировать, поэтому ставим знак минус\n",
    "    return -score"
   ]
  },
  {
   "cell_type": "code",
   "execution_count": 78,
   "metadata": {},
   "outputs": [
    {
     "name": "stdout",
     "output_type": "stream",
     "text": [
      "CPU times: total: 0 ns\n",
      "Wall time: 0 ns\n",
      "100%|██████████| 50/50 [18:18<00:00, 21.96s/trial, best loss: -0.812564892112643]\n",
      "Наилучшие значения гиперпараметров {'max_depth': 20.0, 'min_samples_leaf': 3.0, 'n_estimators': 175.0}\n",
      "Train: 0.98\n",
      "Test: 0.82\n"
     ]
    }
   ],
   "source": [
    "%time # определяет время работы\n",
    "# Начинаем подбор гиперпараметров\n",
    "trials = Trials() # используется для логирования результатов\n",
    "\n",
    "best=fmin(hyperopt_rf, # наша функция \n",
    "          space=space, # пространство гиперпараметров\n",
    "          algo=tpe.suggest, # алгоритм оптимизации, установлен по умолчанию, задавать необязательно\n",
    "          max_evals=50, # максимальное количество итераций\n",
    "          trials=trials, # логирование результатов\n",
    "          rstate=np.random.default_rng(random_state) # фиксируем для повторяемости результата\n",
    "         )\n",
    "print(\"Наилучшие значения гиперпараметров {}\".format(best))\n",
    "\n",
    "# Рассчитаем точность для тестовой выборки\n",
    "model_rt = ensemble.RandomForestClassifier(\n",
    "    random_state=random_state, \n",
    "    n_estimators=int(best['n_estimators']),\n",
    "    max_depth=int(best['max_depth']),\n",
    "    min_samples_leaf=int(best['min_samples_leaf'])\n",
    ")\n",
    "model_rt.fit(X_train, y_train)\n",
    "\n",
    "# Выводим результат по метрике f1\n",
    "y_train_pred = model_rt.predict(X_train)\n",
    "print('Train: {:.2f}'.format(metrics.f1_score(y_train, y_train_pred)))\n",
    "y_test_pred = model_rt.predict(X_test)\n",
    "print('Test: {:.2f}'.format(metrics.f1_score(y_test, y_test_pred)))"
   ]
  },
  {
   "attachments": {},
   "cell_type": "markdown",
   "metadata": {},
   "source": [
    "Optuna"
   ]
  },
  {
   "cell_type": "code",
   "execution_count": 79,
   "metadata": {},
   "outputs": [],
   "source": [
    "# Создаем функцию максимализации\n",
    "def optuna_rf(trial):\n",
    "    #Задаем пространства поиска гиперпараметров\n",
    "    n_estimators = trial.suggest_int('n_estimators', 100, 200, 1)\n",
    "    max_depth = trial.suggest_int('max_depth', 15, 26, 1)\n",
    "    min_samples_leaf = trial.suggest_int('min_samples_leaf', 2, 10, 1)\n",
    "\n",
    "    # Создаем модель\n",
    "    model_optu = ensemble.RandomForestClassifier(n_estimators=n_estimators,\n",
    "                                          max_depth=max_depth,\n",
    "                                          min_samples_leaf=min_samples_leaf,\n",
    "                                          random_state=random_state)\n",
    "    # Обучаем модель\n",
    "    model_optu.fit(X_train, y_train)\n",
    "    # Применим  cross validation\n",
    "    score = cross_val_score(model_optu, X, y, cv=5, scoring=\"f1\", n_jobs=-1).mean()\n",
    "\n",
    "    return score"
   ]
  },
  {
   "cell_type": "code",
   "execution_count": 80,
   "metadata": {},
   "outputs": [
    {
     "name": "stdout",
     "output_type": "stream",
     "text": [
      "CPU times: total: 0 ns\n",
      "Wall time: 0 ns\n"
     ]
    },
    {
     "name": "stderr",
     "output_type": "stream",
     "text": [
      "[I 2023-06-15 19:12:12,058] A new study created in memory with name: RandomForestClassifier\n",
      "[I 2023-06-15 19:12:32,274] Trial 0 finished with value: 0.8054450826888327 and parameters: {'n_estimators': 117, 'max_depth': 18, 'min_samples_leaf': 5}. Best is trial 0 with value: 0.8054450826888327.\n",
      "[I 2023-06-15 19:12:47,418] Trial 1 finished with value: 0.8041592977270566 and parameters: {'n_estimators': 107, 'max_depth': 19, 'min_samples_leaf': 6}. Best is trial 0 with value: 0.8054450826888327.\n",
      "[I 2023-06-15 19:13:14,717] Trial 2 finished with value: 0.8095265348311695 and parameters: {'n_estimators': 190, 'max_depth': 16, 'min_samples_leaf': 5}. Best is trial 2 with value: 0.8095265348311695.\n",
      "[I 2023-06-15 19:13:34,575] Trial 3 finished with value: 0.8096446833834484 and parameters: {'n_estimators': 131, 'max_depth': 23, 'min_samples_leaf': 4}. Best is trial 3 with value: 0.8096446833834484.\n",
      "[I 2023-06-15 19:13:58,184] Trial 4 finished with value: 0.8020436054561655 and parameters: {'n_estimators': 183, 'max_depth': 18, 'min_samples_leaf': 8}. Best is trial 3 with value: 0.8096446833834484.\n",
      "[I 2023-06-15 19:14:25,334] Trial 5 finished with value: 0.8065175593396502 and parameters: {'n_estimators': 198, 'max_depth': 21, 'min_samples_leaf': 6}. Best is trial 3 with value: 0.8096446833834484.\n",
      "[I 2023-06-15 19:14:50,581] Trial 6 finished with value: 0.8147060601281693 and parameters: {'n_estimators': 148, 'max_depth': 21, 'min_samples_leaf': 2}. Best is trial 6 with value: 0.8147060601281693.\n",
      "[I 2023-06-15 19:15:06,160] Trial 7 finished with value: 0.8025766950793332 and parameters: {'n_estimators': 115, 'max_depth': 18, 'min_samples_leaf': 8}. Best is trial 6 with value: 0.8147060601281693.\n",
      "[I 2023-06-15 19:15:27,777] Trial 8 finished with value: 0.8008480453207382 and parameters: {'n_estimators': 169, 'max_depth': 20, 'min_samples_leaf': 9}. Best is trial 6 with value: 0.8147060601281693.\n",
      "[I 2023-06-15 19:15:53,817] Trial 9 finished with value: 0.8145926564156731 and parameters: {'n_estimators': 159, 'max_depth': 16, 'min_samples_leaf': 2}. Best is trial 6 with value: 0.8147060601281693.\n",
      "[I 2023-06-15 19:16:17,819] Trial 10 finished with value: 0.815693893444468 and parameters: {'n_estimators': 139, 'max_depth': 26, 'min_samples_leaf': 2}. Best is trial 10 with value: 0.815693893444468.\n",
      "[I 2023-06-15 19:16:42,710] Trial 11 finished with value: 0.815693893444468 and parameters: {'n_estimators': 139, 'max_depth': 26, 'min_samples_leaf': 2}. Best is trial 10 with value: 0.815693893444468.\n",
      "[I 2023-06-15 19:17:04,796] Trial 12 finished with value: 0.8130182935918638 and parameters: {'n_estimators': 138, 'max_depth': 26, 'min_samples_leaf': 3}. Best is trial 10 with value: 0.815693893444468.\n",
      "[I 2023-06-15 19:17:26,350] Trial 13 finished with value: 0.8144869699509005 and parameters: {'n_estimators': 131, 'max_depth': 26, 'min_samples_leaf': 3}. Best is trial 10 with value: 0.815693893444468.\n",
      "[I 2023-06-15 19:17:52,578] Trial 14 finished with value: 0.8169074060952152 and parameters: {'n_estimators': 149, 'max_depth': 24, 'min_samples_leaf': 2}. Best is trial 14 with value: 0.8169074060952152.\n",
      "[I 2023-06-15 19:18:18,635] Trial 15 finished with value: 0.8106942457061559 and parameters: {'n_estimators': 163, 'max_depth': 24, 'min_samples_leaf': 4}. Best is trial 14 with value: 0.8169074060952152.\n",
      "[I 2023-06-15 19:18:44,302] Trial 16 finished with value: 0.8118869138711162 and parameters: {'n_estimators': 154, 'max_depth': 24, 'min_samples_leaf': 3}. Best is trial 14 with value: 0.8169074060952152.\n",
      "[I 2023-06-15 19:19:08,888] Trial 17 finished with value: 0.7991725240566835 and parameters: {'n_estimators': 173, 'max_depth': 23, 'min_samples_leaf': 10}. Best is trial 14 with value: 0.8169074060952152.\n",
      "[I 2023-06-15 19:19:34,551] Trial 18 finished with value: 0.8090292338614148 and parameters: {'n_estimators': 146, 'max_depth': 24, 'min_samples_leaf': 4}. Best is trial 14 with value: 0.8169074060952152.\n",
      "[I 2023-06-15 19:19:52,993] Trial 19 finished with value: 0.8037949211342349 and parameters: {'n_estimators': 124, 'max_depth': 25, 'min_samples_leaf': 7}. Best is trial 14 with value: 0.8169074060952152.\n"
     ]
    },
    {
     "name": "stdout",
     "output_type": "stream",
     "text": [
      "Наилучшие значения гиперпараметров {'n_estimators': 149, 'max_depth': 24, 'min_samples_leaf': 2}\n",
      "f1_score на обучающем наборе: 0.82\n",
      "Train: 0.99\n",
      "Test: 0.83\n"
     ]
    }
   ],
   "source": [
    "%time # определяет время работы\n",
    "# Создаем объект исследования\n",
    "# Напрямую указываем, что нам необходимо максимизировать метрику direction=\"maximize\"\n",
    "study = optuna.create_study(study_name=\"RandomForestClassifier\", direction=\"maximize\")\n",
    "# Ищем лучшую комбинацию гиперпараметров n_trials раз\n",
    "study.optimize(optuna_rf, n_trials=20)\n",
    "\n",
    "# Выводим результаты на обучающей выборке\n",
    "print(\"Наилучшие значения гиперпараметров {}\".format(study.best_params))\n",
    "print(\"f1_score на обучающем наборе: {:.2f}\".format(study.best_value))\n",
    "\n",
    "# Рассчитаем точность для тестовой выборки\n",
    "model_opt = ensemble.RandomForestClassifier(**study.best_params,random_state=random_state, )\n",
    "model_opt.fit(X_train, y_train)\n",
    "\n",
    "# Выводим результат по метрике f1\n",
    "y_train_pred = model_opt.predict(X_train)\n",
    "print('Train: {:.2f}'.format(metrics.f1_score(y_train, y_train_pred)))\n",
    "y_test_pred = model_opt.predict(X_test)\n",
    "print('Test: {:.2f}'.format(metrics.f1_score(y_test, y_test_pred)))"
   ]
  },
  {
   "cell_type": "code",
   "execution_count": 100,
   "metadata": {},
   "outputs": [
    {
     "name": "stdout",
     "output_type": "stream",
     "text": [
      "Note: you may need to restart the kernel to use updated packages.\n"
     ]
    },
    {
     "name": "stderr",
     "output_type": "stream",
     "text": [
      "WARNING: Ignoring invalid distribution -ywin32 (c:\\users\\user\\appdata\\roaming\\python\\python310\\site-packages)\n"
     ]
    }
   ],
   "source": [
    "# pip freeze > requirements.txt"
   ]
  }
 ],
 "metadata": {
  "kernelspec": {
   "display_name": "Python 3",
   "language": "python",
   "name": "python3"
  },
  "language_info": {
   "codemirror_mode": {
    "name": "ipython",
    "version": 3
   },
   "file_extension": ".py",
   "mimetype": "text/x-python",
   "name": "python",
   "nbconvert_exporter": "python",
   "pygments_lexer": "ipython3",
   "version": "3.10.7"
  },
  "orig_nbformat": 4
 },
 "nbformat": 4,
 "nbformat_minor": 2
}
